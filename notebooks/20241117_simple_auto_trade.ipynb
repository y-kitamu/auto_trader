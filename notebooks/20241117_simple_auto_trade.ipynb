{
 "cells": [
  {
   "cell_type": "code",
   "execution_count": null,
   "metadata": {},
   "outputs": [],
   "source": [
    "# とりあえず動くものを実装する\n",
    "from pathlib import Path\n",
    "import asyncio\n",
    "import pickle\n",
    "import datetime\n",
    "import json\n",
    "\n",
    "import numpy as np\n",
    "from pydantic import BaseModel\n",
    "import polars as pl\n",
    "\n",
    "import stock\n",
    "import data_fetcher\n",
    "import auto_trader"
   ]
  },
  {
   "cell_type": "code",
   "execution_count": null,
   "metadata": {},
   "outputs": [],
   "source": [
    "model_root_dir = Path(\"/home/kitamura/work/stock/outputs/\")\n",
    "model_path = model_root_dir / \"20241123_crypto_train\" / \"model_2024-11-24T18:32:34.455716.pkl\"\n",
    "log_dir = auto_trader.constants.PROJECT_ROOT / \"log\""
   ]
  },
  {
   "cell_type": "code",
   "execution_count": null,
   "metadata": {},
   "outputs": [],
   "source": [
    "trader = auto_trader.trader.Trader0(\n",
    "    symbol=\"BTC_JPY\",\n",
    "    interval=datetime.timedelta(minutes=1),\n",
    "    model_path=model_path,\n",
    "    log_dir=log_dir,\n",
    ")"
   ]
  },
  {
   "cell_type": "code",
   "execution_count": null,
   "metadata": {},
   "outputs": [],
   "source": [
    "try: \n",
    "    trader.run_loop()\n",
    "except Exception as e:\n",
    "    trader.cancel_all_orders()\n",
    "    raise e"
   ]
  },
  {
   "cell_type": "code",
   "execution_count": null,
   "metadata": {},
   "outputs": [],
   "source": [
    "# モデルの問題点を検証"
   ]
  },
  {
   "cell_type": "code",
   "execution_count": null,
   "metadata": {},
   "outputs": [],
   "source": [
    "symbol = \"BTC_JPY\"\n",
    "interval_minutes = 1\n",
    "train_ratio = 0.7\n",
    "pips = 0.01\n",
    "\n",
    "max_loss_rate = 0.1\n",
    "max_hold_timestep = 10\n",
    "\n",
    "fetcher = data_fetcher.gmo.GMOFethcer()\n",
    "all_df = fetcher.fetch_ohlc(symbol, interval=datetime.timedelta(minutes=interval_minutes))"
   ]
  },
  {
   "cell_type": "code",
   "execution_count": null,
   "metadata": {},
   "outputs": [],
   "source": [
    "train_num = (int)(len(all_df) * train_ratio)\n",
    "train_df = all_df[:train_num]\n",
    "test_df = all_df[train_num:]\n",
    "\n",
    "train_df = stock.crypto.feature.calc_features(train_df).filter(\n",
    "    pl.all_horizontal(pl.col(pl.Float32, pl.Float64).is_not_nan())\n",
    ")\n",
    "test_df = stock.crypto.feature.calc_features(test_df).filter(\n",
    "    pl.all_horizontal(pl.col(pl.Float32, pl.Float64).is_not_nan())\n",
    ")"
   ]
  },
  {
   "cell_type": "code",
   "execution_count": null,
   "metadata": {},
   "outputs": [],
   "source": [
    "y_test = trader.model.predict(test_df.select(*auto_trader.trader.trader0.train_features))"
   ]
  },
  {
   "cell_type": "code",
   "execution_count": null,
   "metadata": {},
   "outputs": [],
   "source": [
    "# simulation\n",
    "results = []\n",
    "result = []\n",
    "for i in range(len(test_df) - 1):\n",
    "    if y_test[i] <= 0:\n",
    "        continue\n",
    "\n",
    "    target_buy_price = test_df[\"close\"][i] - test_df[\"ATR\"][i] * 0.8\n",
    "    target_sell_price = test_df[\"close\"][i] + test_df[\"ATR\"][i] * 0.8\n",
    "    if len(result) > 0:\n",
    "        if target_sell_price < test_df[\"high\"][i + 1]:\n",
    "            result += [i + 1, target_sell_price]\n",
    "            results.append(result)\n",
    "            result = []\n",
    "    else:\n",
    "        if target_buy_price > test_df[\"low\"][i + 1]:\n",
    "            result += [i + 1, target_buy_price]"
   ]
  },
  {
   "cell_type": "code",
   "execution_count": null,
   "metadata": {},
   "outputs": [],
   "source": [
    "results = np.array(results)"
   ]
  },
  {
   "cell_type": "code",
   "execution_count": null,
   "metadata": {},
   "outputs": [],
   "source": [
    "(results[:, 3] - results[:, 1]).sum()"
   ]
  },
  {
   "cell_type": "code",
   "execution_count": null,
   "metadata": {},
   "outputs": [],
   "source": []
  },
  {
   "cell_type": "code",
   "execution_count": null,
   "metadata": {},
   "outputs": [],
   "source": []
  }
 ],
 "metadata": {
  "kernelspec": {
   "display_name": "Python 3",
   "language": "python",
   "name": "python3"
  },
  "language_info": {
   "codemirror_mode": {
    "name": "ipython",
    "version": 3
   },
   "file_extension": ".py",
   "mimetype": "text/x-python",
   "name": "python",
   "nbconvert_exporter": "python",
   "pygments_lexer": "ipython3",
   "version": "3.13.0"
  }
 },
 "nbformat": 4,
 "nbformat_minor": 2
}
