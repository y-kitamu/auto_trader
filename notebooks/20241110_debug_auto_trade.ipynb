{
 "cells": [
  {
   "cell_type": "code",
   "execution_count": null,
   "metadata": {},
   "outputs": [],
   "source": [
    "from pathlib import Path\n",
    "import datetime\n",
    "import pickle\n",
    "\n",
    "import numpy as np\n",
    "\n",
    "import auto_trader\n",
    "import data_fetcher"
   ]
  },
  {
   "cell_type": "code",
   "execution_count": null,
   "metadata": {},
   "outputs": [],
   "source": [
    "symbol = \"BTC_JPY\"\n",
    "data_dir = Path(\"../../data_fetcher/data/tick_data\")\n",
    "start_date = datetime.datetime(2024, 1, 1)\n",
    "\n",
    "# data fetcher\n",
    "df = data_fetcher.gmo.GMOFethcer(data_dir=data_dir).fetch_ticker(\n",
    "    symbol, start_date=start_date + datetime.timedelta(days=1)\n",
    ")\n",
    "fetcher = auto_trader.data_fetcher.SimulatorDataFetcher(\"BTC_JPY\", df, loop_interval=0.01)\n",
    "\n",
    "# strategy\n",
    "model_path = Path(\"../../stock/notebooks/model.pkl\")\n",
    "with open(model_path, \"rb\") as f:\n",
    "    estimator = pickle.load(f)\n",
    "wallet = auto_trader.wallet.Wallet(100000)\n",
    "trader = auto_trader.trader.GMOTrader()\n",
    "strategy = auto_trader.strategy.Strategy0(\n",
    "    symbol=symbol, interval=datetime.timedelta(minutes=15), wallet=wallet, trader=trader, estimator=estimator,\n",
    "    start_date=start_date\n",
    ")"
   ]
  },
  {
   "cell_type": "code",
   "execution_count": null,
   "metadata": {},
   "outputs": [],
   "source": [
    "runner = auto_trader.auto_runner.AutoRunner(strategy_list=[strategy], data_fetcher=fetcher, loop_interval=0.5)"
   ]
  },
  {
   "cell_type": "code",
   "execution_count": null,
   "metadata": {},
   "outputs": [],
   "source": [
    "fetcher.start_subscribe()"
   ]
  },
  {
   "cell_type": "code",
   "execution_count": null,
   "metadata": {},
   "outputs": [],
   "source": [
    "fetcher.que.qsize()"
   ]
  },
  {
   "cell_type": "code",
   "execution_count": null,
   "metadata": {},
   "outputs": [],
   "source": [
    "runner.run_step()"
   ]
  },
  {
   "cell_type": "code",
   "execution_count": null,
   "metadata": {},
   "outputs": [],
   "source": [
    "strategy._next_wall"
   ]
  },
  {
   "cell_type": "code",
   "execution_count": null,
   "metadata": {},
   "outputs": [],
   "source": [
    "fetcher.stop_subscribe()"
   ]
  },
  {
   "cell_type": "code",
   "execution_count": null,
   "metadata": {},
   "outputs": [],
   "source": [
    "\n"
   ]
  }
 ],
 "metadata": {
  "kernelspec": {
   "display_name": "Python 3",
   "language": "python",
   "name": "python3"
  },
  "language_info": {
   "codemirror_mode": {
    "name": "ipython",
    "version": 3
   },
   "file_extension": ".py",
   "mimetype": "text/x-python",
   "name": "python",
   "nbconvert_exporter": "python",
   "pygments_lexer": "ipython3",
   "version": "3.13.0"
  }
 },
 "nbformat": 4,
 "nbformat_minor": 2
}
